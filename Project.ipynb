{
 "cells": [
  {
   "cell_type": "code",
   "execution_count": 1,
   "metadata": {},
   "outputs": [],
   "source": [
    "import pandas as pd\n",
    "import numpy as np\n",
    "import matplotlib.pyplot as plt\n",
    "import nltk\n",
    "from nltk.tokenize import word_tokenize\n",
    "import seaborn as sns\n",
    "from sklearn.model_selection import train_test_split"
   ]
  },
  {
   "cell_type": "code",
   "execution_count": 2,
   "metadata": {},
   "outputs": [],
   "source": [
    "data = pd.read_csv('train.csv')\n",
    "test_data = pd.read_csv('test.csv')"
   ]
  },
  {
   "cell_type": "code",
   "execution_count": 3,
   "metadata": {},
   "outputs": [
    {
     "data": {
      "text/html": [
       "<div>\n",
       "<style scoped>\n",
       "    .dataframe tbody tr th:only-of-type {\n",
       "        vertical-align: middle;\n",
       "    }\n",
       "\n",
       "    .dataframe tbody tr th {\n",
       "        vertical-align: top;\n",
       "    }\n",
       "\n",
       "    .dataframe thead th {\n",
       "        text-align: right;\n",
       "    }\n",
       "</style>\n",
       "<table border=\"1\" class=\"dataframe\">\n",
       "  <thead>\n",
       "    <tr style=\"text-align: right;\">\n",
       "      <th></th>\n",
       "      <th>id</th>\n",
       "      <th>comment_text</th>\n",
       "      <th>toxic</th>\n",
       "      <th>severe_toxic</th>\n",
       "      <th>obscene</th>\n",
       "      <th>threat</th>\n",
       "      <th>insult</th>\n",
       "      <th>identity_hate</th>\n",
       "    </tr>\n",
       "  </thead>\n",
       "  <tbody>\n",
       "    <tr>\n",
       "      <th>0</th>\n",
       "      <td>0000997932d777bf</td>\n",
       "      <td>Explanation\\nWhy the edits made under my usern...</td>\n",
       "      <td>0</td>\n",
       "      <td>0</td>\n",
       "      <td>0</td>\n",
       "      <td>0</td>\n",
       "      <td>0</td>\n",
       "      <td>0</td>\n",
       "    </tr>\n",
       "    <tr>\n",
       "      <th>1</th>\n",
       "      <td>000103f0d9cfb60f</td>\n",
       "      <td>D'aww! He matches this background colour I'm s...</td>\n",
       "      <td>0</td>\n",
       "      <td>0</td>\n",
       "      <td>0</td>\n",
       "      <td>0</td>\n",
       "      <td>0</td>\n",
       "      <td>0</td>\n",
       "    </tr>\n",
       "    <tr>\n",
       "      <th>2</th>\n",
       "      <td>000113f07ec002fd</td>\n",
       "      <td>Hey man, I'm really not trying to edit war. It...</td>\n",
       "      <td>0</td>\n",
       "      <td>0</td>\n",
       "      <td>0</td>\n",
       "      <td>0</td>\n",
       "      <td>0</td>\n",
       "      <td>0</td>\n",
       "    </tr>\n",
       "    <tr>\n",
       "      <th>3</th>\n",
       "      <td>0001b41b1c6bb37e</td>\n",
       "      <td>\"\\nMore\\nI can't make any real suggestions on ...</td>\n",
       "      <td>0</td>\n",
       "      <td>0</td>\n",
       "      <td>0</td>\n",
       "      <td>0</td>\n",
       "      <td>0</td>\n",
       "      <td>0</td>\n",
       "    </tr>\n",
       "    <tr>\n",
       "      <th>4</th>\n",
       "      <td>0001d958c54c6e35</td>\n",
       "      <td>You, sir, are my hero. Any chance you remember...</td>\n",
       "      <td>0</td>\n",
       "      <td>0</td>\n",
       "      <td>0</td>\n",
       "      <td>0</td>\n",
       "      <td>0</td>\n",
       "      <td>0</td>\n",
       "    </tr>\n",
       "  </tbody>\n",
       "</table>\n",
       "</div>"
      ],
      "text/plain": [
       "                 id                                       comment_text  toxic  \\\n",
       "0  0000997932d777bf  Explanation\\nWhy the edits made under my usern...      0   \n",
       "1  000103f0d9cfb60f  D'aww! He matches this background colour I'm s...      0   \n",
       "2  000113f07ec002fd  Hey man, I'm really not trying to edit war. It...      0   \n",
       "3  0001b41b1c6bb37e  \"\\nMore\\nI can't make any real suggestions on ...      0   \n",
       "4  0001d958c54c6e35  You, sir, are my hero. Any chance you remember...      0   \n",
       "\n",
       "   severe_toxic  obscene  threat  insult  identity_hate  \n",
       "0             0        0       0       0              0  \n",
       "1             0        0       0       0              0  \n",
       "2             0        0       0       0              0  \n",
       "3             0        0       0       0              0  \n",
       "4             0        0       0       0              0  "
      ]
     },
     "execution_count": 3,
     "metadata": {},
     "output_type": "execute_result"
    }
   ],
   "source": [
    "data.head()"
   ]
  },
  {
   "cell_type": "code",
   "execution_count": 4,
   "metadata": {},
   "outputs": [
    {
     "data": {
      "text/plain": [
       "id               0\n",
       "comment_text     0\n",
       "toxic            0\n",
       "severe_toxic     0\n",
       "obscene          0\n",
       "threat           0\n",
       "insult           0\n",
       "identity_hate    0\n",
       "dtype: int64"
      ]
     },
     "execution_count": 4,
     "metadata": {},
     "output_type": "execute_result"
    }
   ],
   "source": [
    "data.isnull().sum()"
   ]
  },
  {
   "cell_type": "code",
   "execution_count": 36,
   "metadata": {},
   "outputs": [
    {
     "data": {
      "text/plain": [
       "'a pair of jew hating weiner nazi schmucks'"
      ]
     },
     "execution_count": 36,
     "metadata": {},
     "output_type": "execute_result"
    }
   ],
   "source": [
    "cmnt = data['comment_text'][105]\n",
    "cmnt\n",
    "#data.iloc[105,2:7]"
   ]
  },
  {
   "cell_type": "code",
   "execution_count": 5,
   "metadata": {},
   "outputs": [
    {
     "name": "stdout",
     "output_type": "stream",
     "text": [
      "Toxic and Severe Toxic   :  (0.30861909674069965, 0.0)\n",
      "Insult and identity hate :  (0.337736253931426, 0.0)\n",
      "Obscene and threat       :  (0.7412724362039557, 0.0)\n"
     ]
    }
   ],
   "source": [
    "#Pearsons Co relation Coefficient \n",
    "from scipy.stats import pearsonr\n",
    "p1 = pearsonr(data['toxic'], data['severe_toxic'])\n",
    "p2 = pearsonr(data['insult'], data['identity_hate'])\n",
    "p3 = pearsonr(data['obscene'], data['insult'])\n",
    "print(\"Toxic and Severe Toxic   : \",p1)\n",
    "print(\"Insult and identity hate : \",p2)\n",
    "print(\"Obscene and threat       : \",p3)"
   ]
  },
  {
   "cell_type": "code",
   "execution_count": 8,
   "metadata": {},
   "outputs": [],
   "source": [
    "#comment_text1 = pd.DataFrame(data.comment_text)\n",
    "#comment_text1 = data.iloc[:2,1]\n",
    "#comment_text1 = data.comment_text.str.cat(sep=' ')\n",
    "import re\n",
    "def clean_text(text):\n",
    "    text = text.lower()\n",
    "    text = re.sub(r\"what's\", \"what is \", text)\n",
    "    text = re.sub(r\"\\'s\", \" \", text)\n",
    "    text = re.sub(r\"\\'ve\", \" have \", text)\n",
    "    text = re.sub(r\"can't\", \"cannot \", text)\n",
    "    text = re.sub(r\"n't\", \" not \", text)\n",
    "    text = re.sub(r\"i'm\", \"i am \", text)\n",
    "    text = re.sub(r\"\\'re\", \" are \", text)\n",
    "    text = re.sub(r\"\\'d\", \" would \", text)\n",
    "    text = re.sub(r\"\\'ll\", \" will \", text)\n",
    "    text = re.sub(r\"\\'scuse\", \" excuse \", text)\n",
    "    text = re.sub('\\W', ' ', text)\n",
    "    text = re.sub('\\s+', ' ', text)\n",
    "    text = re.sub('@', ' ', text)\n",
    "    text = re.sub('[0-9]','',text)\n",
    "    text = text.strip(' ')\n",
    "    return text\n",
    "    "
   ]
  },
  {
   "cell_type": "code",
   "execution_count": 9,
   "metadata": {},
   "outputs": [],
   "source": [
    "cleaned_comment = []\n",
    "for i in range(0,len(data)):\n",
    "    comment = clean_text(data['comment_text'][i])\n",
    "    cleaned_comment.append(comment)\n",
    "data['comment_text'] = pd.Series(cleaned_comment).astype(str)"
   ]
  },
  {
   "cell_type": "code",
   "execution_count": 6,
   "metadata": {},
   "outputs": [],
   "source": [
    "cleaned_test_comment = []\n",
    "for i in range(0,len(test_data)):\n",
    "    comment = clean_text(test_data['comment_text'][i])\n",
    "    cleaned_test_comment.append(comment)\n",
    "test_data['comment_text'] = pd.Series(cleaned_test_comment).astype(str)"
   ]
  },
  {
   "cell_type": "code",
   "execution_count": 14,
   "metadata": {},
   "outputs": [
    {
     "data": {
      "text/html": [
       "<div>\n",
       "<style scoped>\n",
       "    .dataframe tbody tr th:only-of-type {\n",
       "        vertical-align: middle;\n",
       "    }\n",
       "\n",
       "    .dataframe tbody tr th {\n",
       "        vertical-align: top;\n",
       "    }\n",
       "\n",
       "    .dataframe thead th {\n",
       "        text-align: right;\n",
       "    }\n",
       "</style>\n",
       "<table border=\"1\" class=\"dataframe\">\n",
       "  <thead>\n",
       "    <tr style=\"text-align: right;\">\n",
       "      <th></th>\n",
       "      <th>id</th>\n",
       "      <th>comment_text</th>\n",
       "      <th>toxic</th>\n",
       "      <th>severe_toxic</th>\n",
       "      <th>obscene</th>\n",
       "      <th>threat</th>\n",
       "      <th>insult</th>\n",
       "      <th>identity_hate</th>\n",
       "    </tr>\n",
       "  </thead>\n",
       "  <tbody>\n",
       "    <tr>\n",
       "      <th>0</th>\n",
       "      <td>0000997932d777bf</td>\n",
       "      <td>explanation why the edits made under my userna...</td>\n",
       "      <td>0</td>\n",
       "      <td>0</td>\n",
       "      <td>0</td>\n",
       "      <td>0</td>\n",
       "      <td>0</td>\n",
       "      <td>0</td>\n",
       "    </tr>\n",
       "    <tr>\n",
       "      <th>1</th>\n",
       "      <td>000103f0d9cfb60f</td>\n",
       "      <td>d aww he matches this background colour i am s...</td>\n",
       "      <td>0</td>\n",
       "      <td>0</td>\n",
       "      <td>0</td>\n",
       "      <td>0</td>\n",
       "      <td>0</td>\n",
       "      <td>0</td>\n",
       "    </tr>\n",
       "    <tr>\n",
       "      <th>2</th>\n",
       "      <td>000113f07ec002fd</td>\n",
       "      <td>hey man i am really not trying to edit war it ...</td>\n",
       "      <td>0</td>\n",
       "      <td>0</td>\n",
       "      <td>0</td>\n",
       "      <td>0</td>\n",
       "      <td>0</td>\n",
       "      <td>0</td>\n",
       "    </tr>\n",
       "    <tr>\n",
       "      <th>3</th>\n",
       "      <td>0001b41b1c6bb37e</td>\n",
       "      <td>more i cannot make any real suggestions on imp...</td>\n",
       "      <td>0</td>\n",
       "      <td>0</td>\n",
       "      <td>0</td>\n",
       "      <td>0</td>\n",
       "      <td>0</td>\n",
       "      <td>0</td>\n",
       "    </tr>\n",
       "    <tr>\n",
       "      <th>4</th>\n",
       "      <td>0001d958c54c6e35</td>\n",
       "      <td>you sir are my hero any chance you remember wh...</td>\n",
       "      <td>0</td>\n",
       "      <td>0</td>\n",
       "      <td>0</td>\n",
       "      <td>0</td>\n",
       "      <td>0</td>\n",
       "      <td>0</td>\n",
       "    </tr>\n",
       "  </tbody>\n",
       "</table>\n",
       "</div>"
      ],
      "text/plain": [
       "                 id                                       comment_text  toxic  \\\n",
       "0  0000997932d777bf  explanation why the edits made under my userna...      0   \n",
       "1  000103f0d9cfb60f  d aww he matches this background colour i am s...      0   \n",
       "2  000113f07ec002fd  hey man i am really not trying to edit war it ...      0   \n",
       "3  0001b41b1c6bb37e  more i cannot make any real suggestions on imp...      0   \n",
       "4  0001d958c54c6e35  you sir are my hero any chance you remember wh...      0   \n",
       "\n",
       "   severe_toxic  obscene  threat  insult  identity_hate  \n",
       "0             0        0       0       0              0  \n",
       "1             0        0       0       0              0  \n",
       "2             0        0       0       0              0  \n",
       "3             0        0       0       0              0  \n",
       "4             0        0       0       0              0  "
      ]
     },
     "execution_count": 14,
     "metadata": {},
     "output_type": "execute_result"
    }
   ],
   "source": [
    "data.head()\n",
    "#test_data.head()\n",
    "#tokens = word_tokenize(comment_text1)"
   ]
  },
  {
   "cell_type": "code",
   "execution_count": 15,
   "metadata": {},
   "outputs": [
    {
     "name": "stdout",
     "output_type": "stream",
     "text": [
      "however the moonlite edit noted by golden daph was me on optus wake up wikkis so funny\n"
     ]
    }
   ],
   "source": [
    "print(data['comment_text'][100])\n"
   ]
  },
  {
   "cell_type": "code",
   "execution_count": null,
   "metadata": {},
   "outputs": [],
   "source": []
  },
  {
   "cell_type": "code",
   "execution_count": 32,
   "metadata": {},
   "outputs": [
    {
     "data": {
      "text/plain": [
       "FreqDist({'the': 495406, '.': 488875, ',': 471812, 'to': 296826, \"''\": 240687, 'i': 236737, 'of': 224002, 'and': 222708, 'you': 216272, 'a': 214245, ...})"
      ]
     },
     "execution_count": 32,
     "metadata": {},
     "output_type": "execute_result"
    }
   ],
   "source": [
    "freq_distribution"
   ]
  },
  {
   "cell_type": "code",
   "execution_count": 8,
   "metadata": {},
   "outputs": [
    {
     "data": {
      "text/plain": [
       "(array([158166.,      0.,      0.,      0.,      0.,      0.,      0.,\n",
       "             0.,      0.,   1405.]),\n",
       " array([0. , 0.1, 0.2, 0.3, 0.4, 0.5, 0.6, 0.7, 0.8, 0.9, 1. ]),\n",
       " <a list of 10 Patch objects>)"
      ]
     },
     "execution_count": 8,
     "metadata": {},
     "output_type": "execute_result"
    },
    {
     "data": {
      "image/png": "[encoded data removed]",
      "text/plain": [
       "<Figure size 432x288 with 6 Axes>"
      ]
     },
     "metadata": {
      "needs_background": "light"
     },
     "output_type": "display_data"
    }
   ],
   "source": [
    "plt.subplot(3,2,1)\n",
    "plt.xlabel('Toxic')\n",
    "plt.hist(data.iloc[:,2])\n",
    "plt.subplot(3,2,2)\n",
    "plt.xlabel('Severe Toxic')\n",
    "plt.subplots_adjust(right=1.8,hspace=0.5,top=1.2)\n",
    "plt.hist(data.iloc[:,3])\n",
    "\n",
    "plt.subplot(3,2,3)\n",
    "plt.xlabel('Obscene')\n",
    "plt.hist(data.iloc[:,4])\n",
    "\n",
    "plt.subplot(3,2,4)\n",
    "plt.xlabel('Insult')\n",
    "plt.hist(data.iloc[:,6])\n",
    "\n",
    "plt.subplot(3,2,5)\n",
    "plt.xlabel('Threat')\n",
    "plt.hist(data.iloc[:,5])\n",
    "\n",
    "plt.subplot(3,2,6)\n",
    "plt.xlabel('Identity Hate')\n",
    "plt.hist(data.iloc[:,7])"
   ]
  },
  {
   "cell_type": "code",
   "execution_count": 11,
   "metadata": {},
   "outputs": [
    {
     "data": {
      "image/png": "[encoded data removed]",
      "text/plain": [
       "<Figure size 1152x504 with 6 Axes>"
      ]
     },
     "metadata": {
      "needs_background": "light"
     },
     "output_type": "display_data"
    }
   ],
   "source": [
    "fig,ax = plt.subplots(2,3,figsize=(16,7))\n",
    "ax1,ax2,ax3,ax4,ax5,ax6 = ax.flatten()\n",
    "sns.countplot(data['toxic'],palette= 'viridis',ax=ax1)\n",
    "sns.countplot(data['severe_toxic'], palette= 'viridis',ax=ax2)\n",
    "sns.countplot(data['obscene'], palette= 'viridis',ax=ax3)\n",
    "sns.countplot(data['threat'], palette= 'viridis',ax = ax4)\n",
    "sns.countplot(data['insult'], palette = 'viridis',ax=ax5)\n",
    "sns.countplot(data['identity_hate'], palette = 'viridis', ax = ax6)\n",
    "fig.savefig('graph')"
   ]
  },
  {
   "cell_type": "code",
   "execution_count": 17,
   "metadata": {},
   "outputs": [],
   "source": [
    "target = ['toxic','severe_toxic','obscene','threat','insult','identity_hate']"
   ]
  },
  {
   "cell_type": "code",
   "execution_count": 18,
   "metadata": {},
   "outputs": [],
   "source": [
    "X = data.comment_text\n",
    "test_X = test_data.comment_text"
   ]
  },
  {
   "cell_type": "code",
   "execution_count": 19,
   "metadata": {},
   "outputs": [
    {
     "data": {
      "text/plain": [
       "TfidfVectorizer(analyzer='word', binary=False, decode_error='strict',\n",
       "        dtype=<class 'numpy.float64'>, encoding='utf-8', input='content',\n",
       "        lowercase=True, max_df=1.0, max_features=40000, min_df=1,\n",
       "        ngram_range=(1, 1), norm='l2', preprocessor=None, smooth_idf=True,\n",
       "        stop_words='english', strip_accents=None, sublinear_tf=False,\n",
       "        token_pattern='(?u)\\\\b\\\\w\\\\w+\\\\b', tokenizer=None, use_idf=True,\n",
       "        vocabulary=None)"
      ]
     },
     "execution_count": 19,
     "metadata": {},
     "output_type": "execute_result"
    }
   ],
   "source": [
    "from sklearn.feature_extraction.text import CountVectorizer\n",
    "from sklearn.feature_extraction.text import TfidfVectorizer\n",
    "vect = TfidfVectorizer(max_features=40000,stop_words='english')\n",
    "vect"
   ]
  },
  {
   "cell_type": "code",
   "execution_count": 20,
   "metadata": {},
   "outputs": [
    {
     "data": {
      "text/plain": [
       "<159571x40000 sparse matrix of type '<class 'numpy.float64'>'\n",
       "\twith 3700235 stored elements in Compressed Sparse Row format>"
      ]
     },
     "execution_count": 20,
     "metadata": {},
     "output_type": "execute_result"
    }
   ],
   "source": [
    "# learn the vocabulary in the training data, then use it to create a document-term matrix\n",
    "X_trans = vect.fit_transform(X)\n",
    "# examine the document-term matrix created from X_train\n",
    "X_trans"
   ]
  },
  {
   "cell_type": "code",
   "execution_count": 21,
   "metadata": {},
   "outputs": [],
   "source": [
    "y_trans = data.iloc[:,2:8]"
   ]
  },
  {
   "cell_type": "code",
   "execution_count": 12,
   "metadata": {},
   "outputs": [
    {
     "data": {
      "text/plain": [
       "<153164x40000 sparse matrix of type '<class 'numpy.float64'>'\n",
       "\twith 3143536 stored elements in Compressed Sparse Row format>"
      ]
     },
     "execution_count": 12,
     "metadata": {},
     "output_type": "execute_result"
    }
   ],
   "source": [
    "test_X_trans = vect.transform(test_X)\n",
    "test_X_trans"
   ]
  },
  {
   "cell_type": "code",
   "execution_count": 24,
   "metadata": {},
   "outputs": [],
   "source": [
    "X_train,X_test,y_train,y_test = train_test_split(X_trans,y_trans,test_size=0.3)"
   ]
  },
  {
   "cell_type": "markdown",
   "metadata": {},
   "source": [
    "# Decesion Tree"
   ]
  },
  {
   "cell_type": "code",
   "execution_count": 58,
   "metadata": {},
   "outputs": [
    {
     "name": "stdout",
     "output_type": "stream",
     "text": [
      "... Processing toxic\n",
      "Training accuracy is     99.945388947081\n",
      "Testing accuracy is      93.98395721925134\n",
      "[[41857  1409]\n",
      " [ 1471  3135]]\n",
      "\n",
      "Classification Report : \n",
      "\n",
      "              precision    recall  f1-score   support\n",
      "\n",
      "           0       0.97      0.97      0.97     43266\n",
      "           1       0.69      0.68      0.69      4606\n",
      "\n",
      "   micro avg       0.94      0.94      0.94     47872\n",
      "   macro avg       0.83      0.82      0.83     47872\n",
      "weighted avg       0.94      0.94      0.94     47872\n",
      "\n",
      "\n",
      "__________________________________________________\n",
      "... Processing severe_toxic\n",
      "Training accuracy is     99.95165578921925\n",
      "Testing accuracy is      98.71323529411765\n",
      "[[47133   264]\n",
      " [  352   123]]\n",
      "\n",
      "Classification Report : \n",
      "\n",
      "              precision    recall  f1-score   support\n",
      "\n",
      "           0       0.99      0.99      0.99     47397\n",
      "           1       0.32      0.26      0.29       475\n",
      "\n",
      "   micro avg       0.99      0.99      0.99     47872\n",
      "   macro avg       0.66      0.63      0.64     47872\n",
      "weighted avg       0.99      0.99      0.99     47872\n",
      "\n",
      "\n",
      "__________________________________________________\n",
      "... Processing obscene\n",
      "Training accuracy is     99.95434157870706\n",
      "Testing accuracy is      97.42020387700535\n",
      "[[44718   616]\n",
      " [  619  1919]]\n",
      "\n",
      "Classification Report : \n",
      "\n",
      "              precision    recall  f1-score   support\n",
      "\n",
      "           0       0.99      0.99      0.99     45334\n",
      "           1       0.76      0.76      0.76      2538\n",
      "\n",
      "   micro avg       0.97      0.97      0.97     47872\n",
      "   macro avg       0.87      0.87      0.87     47872\n",
      "weighted avg       0.97      0.97      0.97     47872\n",
      "\n",
      "\n",
      "__________________________________________________\n",
      "... Processing threat\n",
      "Training accuracy is     99.99104736837393\n",
      "Testing accuracy is      99.58430815508021\n",
      "[[47637    84]\n",
      " [  115    36]]\n",
      "\n",
      "Classification Report : \n",
      "\n",
      "              precision    recall  f1-score   support\n",
      "\n",
      "           0       1.00      1.00      1.00     47721\n",
      "           1       0.30      0.24      0.27       151\n",
      "\n",
      "   micro avg       1.00      1.00      1.00     47872\n",
      "   macro avg       0.65      0.62      0.63     47872\n",
      "weighted avg       1.00      1.00      1.00     47872\n",
      "\n",
      "\n",
      "__________________________________________________\n",
      "... Processing insult\n",
      "Training accuracy is     99.92569315750364\n",
      "Testing accuracy is      96.05823863636364\n",
      "[[44559   935]\n",
      " [  952  1426]]\n",
      "\n",
      "Classification Report : \n",
      "\n",
      "              precision    recall  f1-score   support\n",
      "\n",
      "           0       0.98      0.98      0.98     45494\n",
      "           1       0.60      0.60      0.60      2378\n",
      "\n",
      "   micro avg       0.96      0.96      0.96     47872\n",
      "   macro avg       0.79      0.79      0.79     47872\n",
      "weighted avg       0.96      0.96      0.96     47872\n",
      "\n",
      "\n",
      "__________________________________________________\n",
      "... Processing identity_hate\n",
      "Training accuracy is     99.9856757893983\n",
      "Testing accuracy is      98.95137032085562\n",
      "[[47235   189]\n",
      " [  313   135]]\n",
      "\n",
      "Classification Report : \n",
      "\n",
      "              precision    recall  f1-score   support\n",
      "\n",
      "           0       0.99      1.00      0.99     47424\n",
      "           1       0.42      0.30      0.35       448\n",
      "\n",
      "   micro avg       0.99      0.99      0.99     47872\n",
      "   macro avg       0.71      0.65      0.67     47872\n",
      "weighted avg       0.99      0.99      0.99     47872\n",
      "\n",
      "\n",
      "__________________________________________________\n"
     ]
    }
   ],
   "source": [
    "from sklearn.linear_model import LogisticRegression\n",
    "from sklearn.metrics import accuracy_score\n",
    "from sklearn.metrics import classification_report\n",
    "from sklearn.metrics import confusion_matrix\n",
    "\n",
    "from sklearn.tree import DecisionTreeClassifier\n",
    "\n",
    "dtc = DecisionTreeClassifier()\n",
    "lr = LogisticRegression(C=12.0)\n",
    "\n",
    "# create submission file\n",
    "submission_binary = pd.read_csv('prediction.csv')\n",
    "\n",
    "change_acc_bin = []\n",
    "for i,label in enumerate(target):\n",
    "    print('... Processing {}'.format(label))\n",
    "    y = y_train[label]\n",
    "    dtc.fit(X_train,y)\n",
    "    #lr.fit(X_train,y)\n",
    "    #y_pred_X = lr.predict(X_train)\n",
    "    y_pred_X = dtc.predict(X_train)\n",
    "    print('Training accuracy is     {}'.format(accuracy_score(y, y_pred_X)*100))\n",
    "    # compute the predicted probabilities for X_test_dtm\n",
    "    #test_y_prob = lr.predict_proba(test_X_trans)[:,1]\n",
    "    #prediction = lr.predict(X_test)\n",
    "    prediction = dtc.predict(X_test)\n",
    "    test_y_prob = accuracy_score(y_test[label],prediction)\n",
    "    print('Testing accuracy is      {}'.format(test_y_prob*100))\n",
    "    print(confusion_matrix(y_test[label],prediction))\n",
    "    #op = pd.DataFrame({'Actual':y_test[label],'Predicted':prediction})\n",
    "    #print(op)\n",
    "    print(\"\\nClassification Report : \\n\")\n",
    "    print(classification_report(y_test[label],prediction))\n",
    "    print(\"\")\n",
    "    print(50*'_')\n",
    "   # submission_binary[label] = test_y_prob"
   ]
  },
  {
   "cell_type": "markdown",
   "metadata": {},
   "source": [
    "# Logistic Regression"
   ]
  },
  {
   "cell_type": "code",
   "execution_count": 25,
   "metadata": {},
   "outputs": [
    {
     "name": "stdout",
     "output_type": "stream",
     "text": [
      "... Processing toxic\n"
     ]
    },
    {
     "name": "stderr",
     "output_type": "stream",
     "text": [
      "c:\\users\\shubham\\appdata\\local\\programs\\python\\python36\\lib\\site-packages\\sklearn\\linear_model\\logistic.py:433: FutureWarning: Default solver will be changed to 'lbfgs' in 0.22. Specify a solver to silence this warning.\n",
      "  FutureWarning)\n"
     ]
    },
    {
     "name": "stdout",
     "output_type": "stream",
     "text": [
      "Training accuracy is     98.13964314810339\n",
      "Testing accuracy is      95.76161430481284\n",
      "[[42757   541]\n",
      " [ 1488  3086]]\n",
      "__________________________________________________\n",
      "... Processing severe_toxic\n",
      "Training accuracy is     99.4350889443952\n",
      "Testing accuracy is      99.04745989304813\n",
      "[[47279   133]\n",
      " [  323   137]]\n",
      "__________________________________________________\n",
      "... Processing obscene\n",
      "Training accuracy is     99.10742262688117\n",
      "Testing accuracy is      97.88602941176471\n",
      "[[45098   265]\n",
      " [  747  1762]]\n",
      "__________________________________________________\n",
      "... Processing threat\n",
      "Training accuracy is     99.88361578886114\n",
      "Testing accuracy is      99.72008689839572\n",
      "[[47702    21]\n",
      " [  113    36]]\n",
      "__________________________________________________\n",
      "... Processing insult\n",
      "Training accuracy is     98.60249420317102\n",
      "Testing accuracy is      97.08806818181817\n",
      "[[45184   414]\n",
      " [  980  1294]]\n",
      "__________________________________________________\n",
      "... Processing identity_hate\n",
      "Training accuracy is     99.62488473486782\n",
      "Testing accuracy is      99.23546122994652\n",
      "[[47404    62]\n",
      " [  304   102]]\n",
      "__________________________________________________\n"
     ]
    }
   ],
   "source": [
    "from sklearn.linear_model import LogisticRegression\n",
    "from sklearn.metrics import accuracy_score\n",
    "from sklearn.metrics import classification_report\n",
    "from sklearn.metrics import confusion_matrix\n",
    "\n",
    "lr = LogisticRegression(C=12.0)\n",
    "\n",
    "# create submission file\n",
    "#submission_binary = pd.read_csv('prediction.csv')\n",
    "\n",
    "change_acc_bin = []\n",
    "for i,label in enumerate(target):\n",
    "    print('... Processing {}'.format(label))\n",
    "    y = y_train[label]\n",
    "    lr.fit(X_train,y)\n",
    "    y_pred_X = lr.predict(X_train)\n",
    "    print('Training accuracy is     {}'.format(accuracy_score(y, y_pred_X)*100))\n",
    "    # compute the predicted probabilities for X_test_dtm\n",
    "    #test_y_prob = lr.predict_proba(test_X_trans)[:,1]\n",
    "    prediction = lr.predict(X_test)\n",
    "    test_y_prob = accuracy_score(y_test[label],prediction)\n",
    "    change_acc_bin.append(test_y_prob)\n",
    "    print('Testing accuracy is      {}'.format(test_y_prob*100))\n",
    "    print(confusion_matrix(y_test[label],prediction))\n",
    "    #op = pd.DataFrame({'Actual':y_test[label],'Predicted':prediction})\n",
    "    #print(op)\n",
    "    #print(lr.predict(cmnt))\n",
    "    #print(\"\")\n",
    "    print(50*'_')\n",
    "   # submission_binary[label] = test_y_prob"
   ]
  },
  {
   "cell_type": "code",
   "execution_count": 42,
   "metadata": {},
   "outputs": [
    {
     "data": {
      "image/png": "[encoded data removed]",
      "text/plain": [
       "<Figure size 864x432 with 1 Axes>"
      ]
     },
     "metadata": {
      "needs_background": "light"
     },
     "output_type": "display_data"
    }
   ],
   "source": [
    "plt.bar(target,change_acc_bin)\n",
    "plt.gcf().set_size_inches(12,6)\n",
    "plt.tick_params(labelsize=13)\n",
    "plt.xlabel('Dependent Features')\n",
    "plt.ylabel('Accuracy')\n",
    "plt.show()"
   ]
  },
  {
   "cell_type": "markdown",
   "metadata": {},
   "source": [
    "# Binary Relevance Method"
   ]
  },
  {
   "cell_type": "code",
   "execution_count": 15,
   "metadata": {},
   "outputs": [
    {
     "name": "stderr",
     "output_type": "stream",
     "text": [
      "c:\\users\\shubham\\appdata\\local\\programs\\python\\python36\\lib\\site-packages\\sklearn\\svm\\base.py:196: FutureWarning: The default value of gamma will change from 'auto' to 'scale' in version 0.22 to account better for unscaled features. Set gamma explicitly to 'auto' or 'scale' to avoid this warning.\n",
      "  \"avoid this warning.\", FutureWarning)\n"
     ]
    }
   ],
   "source": [
    "from skmultilearn.problem_transform import BinaryRelevance\n",
    "from sklearn.svm import SVC\n",
    "\n",
    "classifier = BinaryRelevance(\n",
    "    classifier = SVC(),\n",
    "    require_dense = [False, True]\n",
    ")\n",
    "\n",
    "# train\n",
    "classifier.fit(X_train, y_train)\n",
    "\n",
    "# predict\n",
    "predictions = classifier.predict(X_test)"
   ]
  },
  {
   "cell_type": "code",
   "execution_count": 66,
   "metadata": {},
   "outputs": [
    {
     "data": {
      "text/plain": [
       "0.8977272727272727"
      ]
     },
     "execution_count": 66,
     "metadata": {},
     "output_type": "execute_result"
    }
   ],
   "source": [
    "from sklearn.metrics import accuracy_score\n",
    "from sklearn.metrics import classification_report\n",
    "from sklearn.metrics import confusion_matrix\n",
    "accuracy_score(y_test,predictions)"
   ]
  },
  {
   "cell_type": "code",
   "execution_count": 73,
   "metadata": {},
   "outputs": [],
   "source": [
    "cmnt = ['Stupid peace of shit stop deleting my stuff asshole go die and fall in a hole go to hell!']\n",
    "cmnt = vect.transform(cmnt)"
   ]
  },
  {
   "cell_type": "code",
   "execution_count": 65,
   "metadata": {},
   "outputs": [
    {
     "data": {
      "text/plain": [
       "array([[0., 0., 0., 0., 0., 0.]])"
      ]
     },
     "execution_count": 65,
     "metadata": {},
     "output_type": "execute_result"
    }
   ],
   "source": [
    "h = classifier.predict(cmnt)\n",
    "h.toarray()"
   ]
  },
  {
   "cell_type": "markdown",
   "metadata": {},
   "source": [
    "# Saving Binary Relevance Built In Model"
   ]
  },
  {
   "cell_type": "code",
   "execution_count": 66,
   "metadata": {},
   "outputs": [
    {
     "data": {
      "text/plain": [
       "['br_builtin.pkl']"
      ]
     },
     "execution_count": 66,
     "metadata": {},
     "output_type": "execute_result"
    }
   ],
   "source": [
    "from sklearn.externals import joblib \n",
    "   \n",
    "joblib.dump(classifier, 'br_builtin.pkl')  \n"
   ]
  },
  {
   "cell_type": "code",
   "execution_count": 67,
   "metadata": {},
   "outputs": [
    {
     "data": {
      "text/plain": [
       "<1x6 sparse matrix of type '<class 'numpy.float64'>'\n",
       "\twith 0 stored elements in Compressed Sparse Column format>"
      ]
     },
     "execution_count": 67,
     "metadata": {},
     "output_type": "execute_result"
    }
   ],
   "source": [
    "br_from_joblib = joblib.load('br_builtin.pkl')\n",
    "br_from_joblib.predict(cmnt)"
   ]
  },
  {
   "cell_type": "markdown",
   "metadata": {},
   "source": [
    "# Logistic Regression Classifier Chain"
   ]
  },
  {
   "cell_type": "code",
   "execution_count": 26,
   "metadata": {},
   "outputs": [],
   "source": [
    "from skmultilearn.problem_transform import ClassifierChain\n",
    "\n",
    "classifier = ClassifierChain(\n",
    "    LogisticRegression(),\n",
    "    require_dense = [False, True]\n",
    ")\n",
    "\n",
    "# train\n",
    "classifier.fit(X_train, y_train)\n",
    "\n",
    "# predict\n",
    "predictions = classifier.predict(X_test)"
   ]
  },
  {
   "cell_type": "code",
   "execution_count": 27,
   "metadata": {},
   "outputs": [
    {
     "data": {
      "text/plain": [
       "0.9197652072192514"
      ]
     },
     "execution_count": 27,
     "metadata": {},
     "output_type": "execute_result"
    }
   ],
   "source": [
    "accuracy_score(y_test,predictions)"
   ]
  },
  {
   "cell_type": "code",
   "execution_count": 30,
   "metadata": {},
   "outputs": [],
   "source": [
    "from sklearn.externals import joblib \n",
    "load_model = joblib.dump(classifier,'lr.pkl')\n",
    "#h = classifier.predict_proba(cmnt)\n",
    "#h.toarray()"
   ]
  },
  {
   "cell_type": "code",
   "execution_count": 74,
   "metadata": {},
   "outputs": [
    {
     "data": {
      "text/plain": [
       "array([[0.99998873, 0.34232343, 0.97835689, 0.11738408, 0.96085243,\n",
       "        0.03861971]])"
      ]
     },
     "execution_count": 74,
     "metadata": {},
     "output_type": "execute_result"
    }
   ],
   "source": [
    "load_model1 = joblib.load('lr.pkl')\n",
    "load_model1.predict_proba(cmnt).toarray()"
   ]
  },
  {
   "cell_type": "markdown",
   "metadata": {},
   "source": [
    "# KNN Binary Relevance"
   ]
  },
  {
   "cell_type": "code",
   "execution_count": 92,
   "metadata": {},
   "outputs": [
    {
     "data": {
      "text/plain": [
       "0.9016753008021391"
      ]
     },
     "execution_count": 92,
     "metadata": {},
     "output_type": "execute_result"
    }
   ],
   "source": [
    "from skmultilearn.problem_transform import BinaryRelevance\n",
    "from sklearn.neighbors import KNeighborsClassifier\n",
    "\n",
    "classifier = BinaryRelevance(\n",
    "    KNeighborsClassifier(n_neighbors=10),\n",
    "    require_dense = [False, True]\n",
    ")\n",
    "\n",
    "# train\n",
    "classifier.fit(X_train, y_train)\n",
    "\n",
    "# predict\n",
    "predictions = classifier.predict(X_test)\n",
    "accuracy_score(y_test,predictions)"
   ]
  },
  {
   "cell_type": "code",
   "execution_count": 93,
   "metadata": {},
   "outputs": [
    {
     "data": {
      "text/plain": [
       "['knn.pkl']"
      ]
     },
     "execution_count": 93,
     "metadata": {},
     "output_type": "execute_result"
    }
   ],
   "source": [
    "joblib.dump(classifier,'knn.pkl')"
   ]
  },
  {
   "cell_type": "code",
   "execution_count": 40,
   "metadata": {},
   "outputs": [],
   "source": [
    "from sklearn.externals import joblib \n",
    "\n",
    "load_model = joblib.load('knn.pkl')"
   ]
  },
  {
   "cell_type": "code",
   "execution_count": 49,
   "metadata": {},
   "outputs": [
    {
     "data": {
      "text/plain": [
       "[0.045733151720667053,\n",
       " 0.00017385441836222708,\n",
       " 0.0045202883014617695,\n",
       " 0.0003348449584345211,\n",
       " 0.00391508037804954,\n",
       " 0.0011640669859212826]"
      ]
     },
     "execution_count": 49,
     "metadata": {},
     "output_type": "execute_result"
    }
   ],
   "source": [
    "from itertools import chain \n",
    "p = load_model.predict_proba(cmnt).toarray()\n",
    "p = p.tolist()\n",
    "p = list(chain.from_iterable(p)) \n",
    "p"
   ]
  },
  {
   "cell_type": "markdown",
   "metadata": {},
   "source": [
    "# Language Translation "
   ]
  },
  {
   "cell_type": "code",
   "execution_count": 75,
   "metadata": {},
   "outputs": [
    {
     "name": "stdout",
     "output_type": "stream",
     "text": [
      "Enter text in hindi to classify : aap bure ho\n",
      "Hindi -  आप् बुरे हो\n",
      "Translated -  You are bad\n",
      "\n",
      "Predictions : \n",
      "toxic  : 0.1904342779618528\n",
      "severe_toxic  : 0.00017996390699984627\n",
      "obscene  : 0.004181443128168837\n",
      "threat  : 0.00027961521116992284\n",
      "insult  : 0.005824443598115011\n",
      "identity_hate  : 0.001007317011249877\n"
     ]
    }
   ],
   "source": [
    "from textblob import TextBlob\n",
    "\n",
    "from indic_transliteration import sanscript\n",
    "from indic_transliteration.sanscript import SchemeMap, SCHEMES, transliterate\n",
    "\n",
    "data = input(\"Enter text in hindi to classify : \")\n",
    "\n",
    "or_word = transliterate(data, sanscript.ITRANS, sanscript.DEVANAGARI)\n",
    "print(\"Hindi - \",or_word)\n",
    "word = TextBlob(or_word)\n",
    "translated = word.translate(from_lang='hi',to='en')\n",
    "print(\"Translated - \",translated)\n",
    "\n",
    "translated = str(translated)\n",
    "translated = [translated]\n",
    "translated\n",
    "str1 = vect.transform(translated)\n",
    "\n",
    "prediction = load_model.predict_proba(str1).toarray()\n",
    "print(\"\")\n",
    "print(\"Predictions : \")\n",
    "for index,i in enumerate(target) :\n",
    "    print(i,\" : \",end='')\n",
    "    print(prediction[0][index])"
   ]
  },
  {
   "cell_type": "code",
   "execution_count": null,
   "metadata": {},
   "outputs": [],
   "source": []
  },
  {
   "cell_type": "code",
   "execution_count": null,
   "metadata": {},
   "outputs": [],
   "source": []
  },
  {
   "cell_type": "code",
   "execution_count": null,
   "metadata": {},
   "outputs": [],
   "source": []
  }
 ],
 "metadata": {
  "kernelspec": {
   "display_name": "Python 3",
   "language": "python",
   "name": "python3"
  },
  "language_info": {
   "codemirror_mode": {
    "name": "ipython",
    "version": 3
   },
   "file_extension": ".py",
   "mimetype": "text/x-python",
   "name": "python",
   "nbconvert_exporter": "python",
   "pygments_lexer": "ipython3",
   "version": "3.6.8"
  }
 },
 "nbformat": 4,
 "nbformat_minor": 2
}
